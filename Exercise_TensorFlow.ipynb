{
 "cells": [
  {
   "cell_type": "markdown",
   "id": "0dca6665-473f-4974-9adb-417f03ba5434",
   "metadata": {},
   "source": [
    "In this example:\n",
    "\n",
    "* We first load and preprocess the MNIST dataset.\n",
    "* We define a simple neural network model using TensorFlow's Keras API.\n",
    "* We create a tf.distribute.MirroredStrategy object, which mirrors variables across multiple GPUs.\n",
    "* We create and compile the model within the strategy's scope, so it will be distributed across all available GPUs.\n",
    "* We create a TensorFlow dataset from the input data and shuffle and batch it.\n",
    "* We define a training step function that computes gradients and applies them using tf.GradientTape.\n",
    "* We iterate over the dataset and perform distributed training using strategy.experimental_run_v2.\n",
    "* The training loop runs for a specified number of epochs, printing the loss after each epoch.\n",
    "* By using tf.distribute.MirroredStrategy, TensorFlow efficiently distributes the computation across multiple GPUs, leading to faster training times compared to training on a single GPU."
   ]
  },
  {
   "cell_type": "code",
   "execution_count": 6,
   "id": "d827fcad-6933-4a5b-b0cb-337d7eadcdbe",
   "metadata": {},
   "outputs": [
    {
     "name": "stdout",
     "output_type": "stream",
     "text": [
      "Epoch 1/5\n",
      "938/938 [==============================] - 3s 3ms/step - loss: 0.2578 - accuracy: 0.9265\n",
      "Epoch 2/5\n",
      "938/938 [==============================] - 2s 3ms/step - loss: 0.1083 - accuracy: 0.9683\n",
      "Epoch 3/5\n",
      "938/938 [==============================] - 2s 3ms/step - loss: 0.0715 - accuracy: 0.9786\n",
      "Epoch 4/5\n",
      "938/938 [==============================] - 2s 3ms/step - loss: 0.0517 - accuracy: 0.9845\n",
      "Epoch 5/5\n",
      "938/938 [==============================] - 3s 3ms/step - loss: 0.0384 - accuracy: 0.9883\n",
      "1875/1875 [==============================] - 3s 1ms/step - loss: 0.0263 - accuracy: 0.9925\n",
      "Accuracy: 0.9924833178520203\n"
     ]
    }
   ],
   "source": [
    "import tensorflow as tf\n",
    "from tensorflow.keras import layers, models, datasets, optimizers\n",
    "\n",
    "# Load and preprocess the MNIST dataset\n",
    "(x_train, y_train), _ = datasets.mnist.load_data()\n",
    "x_train = x_train.reshape(-1, 28, 28, 1).astype(\"float32\") / 255.0\n",
    "y_train = tf.keras.utils.to_categorical(y_train, num_classes=10)\n",
    "\n",
    "# Create a simple neural network model\n",
    "def create_model():\n",
    "    model = models.Sequential([\n",
    "        layers.Flatten(input_shape=(28, 28, 1)),\n",
    "        layers.Dense(256, activation='relu'),\n",
    "        layers.Dense(10, activation='softmax')\n",
    "    ])\n",
    "    return model\n",
    "\n",
    "# Define the model\n",
    "model = create_model()\n",
    "\n",
    "# Compile the model\n",
    "model.compile(optimizer='adam',\n",
    "              loss='categorical_crossentropy',\n",
    "              metrics=['accuracy'])\n",
    "\n",
    "# Train the model\n",
    "model.fit(x_train, y_train, epochs=5, batch_size=64)\n",
    "\n",
    "# Evaluate the model\n",
    "_, accuracy = model.evaluate(x_train, y_train)\n",
    "print('Accuracy:', accuracy)\n"
   ]
  }
 ],
 "metadata": {
  "kernelspec": {
   "display_name": "Python 3 (ipykernel)",
   "language": "python",
   "name": "python3"
  },
  "language_info": {
   "codemirror_mode": {
    "name": "ipython",
    "version": 3
   },
   "file_extension": ".py",
   "mimetype": "text/x-python",
   "name": "python",
   "nbconvert_exporter": "python",
   "pygments_lexer": "ipython3",
   "version": "3.10.13"
  }
 },
 "nbformat": 4,
 "nbformat_minor": 5
}
