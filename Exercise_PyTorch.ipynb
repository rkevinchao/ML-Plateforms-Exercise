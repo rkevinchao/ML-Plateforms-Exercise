{
 "cells": [
  {
   "cell_type": "markdown",
   "id": "deb90fde-90c0-4668-89de-c49a1b81034a",
   "metadata": {},
   "source": [
    "In this example:\n",
    "\n",
    "* We define a simple neural network SimpleNN with one hidden layer.\n",
    "* We load the MNIST dataset and define a DataLoader for batching and shuffling.\n",
    "* We check if CUDA (GPU support) is available and move the model to the available device.\n",
    "* If multiple GPUs are available, we wrap the model with nn.DataParallel to enable DataParallelism.\n",
    "* We define a loss function (CrossEntropyLoss) and an optimizer (SGD).\n",
    "* We loop over the dataset multiple times, performing forward and backward passes through the network and updating the model parameters.\n",
    "* By utilizing DataParallelism with PyTorch, the workload will be automatically distributed across multiple GPUs if available, leading to faster training times."
   ]
  },
  {
   "cell_type": "code",
   "execution_count": 1,
   "id": "4cb5b467-a3b4-4e6f-bda9-7fba07e0ddaa",
   "metadata": {},
   "outputs": [
    {
     "name": "stdout",
     "output_type": "stream",
     "text": [
      "Downloading http://yann.lecun.com/exdb/mnist/train-images-idx3-ubyte.gz\n",
      "Downloading http://yann.lecun.com/exdb/mnist/train-images-idx3-ubyte.gz to ./data/MNIST/raw/train-images-idx3-ubyte.gz\n"
     ]
    },
    {
     "name": "stderr",
     "output_type": "stream",
     "text": [
      "100%|██████████████████████████████████████████████████████████████████████| 9912422/9912422 [00:00<00:00, 27386602.79it/s]\n"
     ]
    },
    {
     "name": "stdout",
     "output_type": "stream",
     "text": [
      "Extracting ./data/MNIST/raw/train-images-idx3-ubyte.gz to ./data/MNIST/raw\n",
      "\n",
      "Downloading http://yann.lecun.com/exdb/mnist/train-labels-idx1-ubyte.gz\n",
      "Downloading http://yann.lecun.com/exdb/mnist/train-labels-idx1-ubyte.gz to ./data/MNIST/raw/train-labels-idx1-ubyte.gz\n"
     ]
    },
    {
     "name": "stderr",
     "output_type": "stream",
     "text": [
      "100%|██████████████████████████████████████████████████████████████████████████| 28881/28881 [00:00<00:00, 26687749.25it/s]"
     ]
    },
    {
     "name": "stdout",
     "output_type": "stream",
     "text": [
      "Extracting ./data/MNIST/raw/train-labels-idx1-ubyte.gz to ./data/MNIST/raw\n",
      "\n",
      "Downloading http://yann.lecun.com/exdb/mnist/t10k-images-idx3-ubyte.gz\n",
      "Downloading http://yann.lecun.com/exdb/mnist/t10k-images-idx3-ubyte.gz to ./data/MNIST/raw/t10k-images-idx3-ubyte.gz\n"
     ]
    },
    {
     "name": "stderr",
     "output_type": "stream",
     "text": [
      "\n",
      "100%|██████████████████████████████████████████████████████████████████████| 1648877/1648877 [00:00<00:00, 20604780.04it/s]\n"
     ]
    },
    {
     "name": "stdout",
     "output_type": "stream",
     "text": [
      "Extracting ./data/MNIST/raw/t10k-images-idx3-ubyte.gz to ./data/MNIST/raw\n",
      "\n",
      "Downloading http://yann.lecun.com/exdb/mnist/t10k-labels-idx1-ubyte.gz\n",
      "Downloading http://yann.lecun.com/exdb/mnist/t10k-labels-idx1-ubyte.gz to ./data/MNIST/raw/t10k-labels-idx1-ubyte.gz\n"
     ]
    },
    {
     "name": "stderr",
     "output_type": "stream",
     "text": [
      "100%|█████████████████████████████████████████████████████████████████████████████| 4542/4542 [00:00<00:00, 7119031.68it/s]\n"
     ]
    },
    {
     "name": "stdout",
     "output_type": "stream",
     "text": [
      "Extracting ./data/MNIST/raw/t10k-labels-idx1-ubyte.gz to ./data/MNIST/raw\n",
      "\n",
      "[1,   100] loss: 0.914\n",
      "[1,   200] loss: 0.420\n",
      "[1,   300] loss: 0.348\n",
      "[1,   400] loss: 0.346\n",
      "[1,   500] loss: 0.321\n",
      "[1,   600] loss: 0.294\n",
      "[1,   700] loss: 0.253\n",
      "[1,   800] loss: 0.226\n",
      "[1,   900] loss: 0.237\n",
      "[2,   100] loss: 0.197\n",
      "[2,   200] loss: 0.202\n",
      "[2,   300] loss: 0.191\n",
      "[2,   400] loss: 0.180\n",
      "[2,   500] loss: 0.160\n",
      "[2,   600] loss: 0.168\n",
      "[2,   700] loss: 0.167\n",
      "[2,   800] loss: 0.146\n",
      "[2,   900] loss: 0.147\n",
      "[3,   100] loss: 0.129\n",
      "[3,   200] loss: 0.128\n",
      "[3,   300] loss: 0.130\n",
      "[3,   400] loss: 0.133\n",
      "[3,   500] loss: 0.123\n",
      "[3,   600] loss: 0.114\n",
      "[3,   700] loss: 0.118\n",
      "[3,   800] loss: 0.128\n",
      "[3,   900] loss: 0.121\n",
      "[4,   100] loss: 0.102\n",
      "[4,   200] loss: 0.111\n",
      "[4,   300] loss: 0.095\n",
      "[4,   400] loss: 0.101\n",
      "[4,   500] loss: 0.097\n",
      "[4,   600] loss: 0.107\n",
      "[4,   700] loss: 0.097\n",
      "[4,   800] loss: 0.086\n",
      "[4,   900] loss: 0.096\n",
      "[5,   100] loss: 0.079\n",
      "[5,   200] loss: 0.086\n",
      "[5,   300] loss: 0.080\n",
      "[5,   400] loss: 0.077\n",
      "[5,   500] loss: 0.078\n",
      "[5,   600] loss: 0.073\n",
      "[5,   700] loss: 0.086\n",
      "[5,   800] loss: 0.092\n",
      "[5,   900] loss: 0.086\n",
      "Finished Training\n"
     ]
    }
   ],
   "source": [
    "import torch\n",
    "import torch.nn as nn\n",
    "import torch.optim as optim\n",
    "import torchvision\n",
    "import torchvision.transforms as transforms\n",
    "\n",
    "# Define a simple neural network\n",
    "class SimpleNN(nn.Module):\n",
    "    def __init__(self):\n",
    "        super(SimpleNN, self).__init__()\n",
    "        self.fc1 = nn.Linear(784, 256)\n",
    "        self.fc2 = nn.Linear(256, 10)\n",
    "\n",
    "    def forward(self, x):\n",
    "        x = torch.flatten(x, 1)\n",
    "        x = torch.relu(self.fc1(x))\n",
    "        x = self.fc2(x)\n",
    "        return x\n",
    "\n",
    "# Define transformations for the dataset\n",
    "transform = transforms.Compose([transforms.ToTensor(), transforms.Normalize((0.5,), (0.5,))])\n",
    "\n",
    "# Load MNIST dataset\n",
    "train_dataset = torchvision.datasets.MNIST(root='./data', train=True, download=True, transform=transform)\n",
    "train_loader = torch.utils.data.DataLoader(train_dataset, batch_size=64, shuffle=True)\n",
    "\n",
    "# Check if CUDA (GPU support) is available\n",
    "device = torch.device(\"cuda\" if torch.cuda.is_available() else \"cpu\")\n",
    "\n",
    "# Initialize the model\n",
    "model = SimpleNN().to(device)\n",
    "\n",
    "# If multiple GPUs are available, wrap the model with DataParallel\n",
    "if torch.cuda.device_count() > 1:\n",
    "    print(\"Using\", torch.cuda.device_count(), \"GPUs for training.\")\n",
    "    model = nn.DataParallel(model)\n",
    "\n",
    "# Define loss function and optimizer\n",
    "criterion = nn.CrossEntropyLoss()\n",
    "optimizer = optim.SGD(model.parameters(), lr=0.01, momentum=0.9)\n",
    "\n",
    "# Training loop\n",
    "for epoch in range(5):  # Loop over the dataset multiple times\n",
    "    running_loss = 0.0\n",
    "    for i, data in enumerate(train_loader, 0):\n",
    "        inputs, labels = data[0].to(device), data[1].to(device)\n",
    "\n",
    "        # Zero the parameter gradients\n",
    "        optimizer.zero_grad()\n",
    "\n",
    "        # Forward pass\n",
    "        outputs = model(inputs)\n",
    "        loss = criterion(outputs, labels)\n",
    "\n",
    "        # Backward pass and optimize\n",
    "        loss.backward()\n",
    "        optimizer.step()\n",
    "\n",
    "        # Print statistics\n",
    "        running_loss += loss.item()\n",
    "        if i % 100 == 99:  # Print every 100 mini-batches\n",
    "            print('[%d, %5d] loss: %.3f' % (epoch + 1, i + 1, running_loss / 100))\n",
    "            running_loss = 0.0\n",
    "\n",
    "print('Finished Training')"
   ]
  }
 ],
 "metadata": {
  "kernelspec": {
   "display_name": "Python 3 (ipykernel)",
   "language": "python",
   "name": "python3"
  },
  "language_info": {
   "codemirror_mode": {
    "name": "ipython",
    "version": 3
   },
   "file_extension": ".py",
   "mimetype": "text/x-python",
   "name": "python",
   "nbconvert_exporter": "python",
   "pygments_lexer": "ipython3",
   "version": "3.10.13"
  }
 },
 "nbformat": 4,
 "nbformat_minor": 5
}
